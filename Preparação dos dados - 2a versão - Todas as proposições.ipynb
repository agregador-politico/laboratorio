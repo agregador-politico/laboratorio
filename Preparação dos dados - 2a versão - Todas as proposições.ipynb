{
 "cells": [
  {
   "cell_type": "markdown",
   "id": "1b277973",
   "metadata": {},
   "source": [
    "### Importação das bibliotecas"
   ]
  },
  {
   "cell_type": "code",
   "execution_count": null,
   "id": "c25407d5",
   "metadata": {},
   "outputs": [],
   "source": [
    "import requests\n",
    "import pandas as pd\n",
    "from glom import glom\n",
    "from ast import literal_eval\n",
    "import json"
   ]
  },
  {
   "cell_type": "markdown",
   "id": "00f05f00",
   "metadata": {},
   "source": [
    "### Download das informações dos deputados"
   ]
  },
  {
   "cell_type": "code",
   "execution_count": null,
   "id": "b05b251f",
   "metadata": {},
   "outputs": [],
   "source": [
    "url_deputados = \"https://dadosabertos.camara.leg.br/api/v2/deputados?idLegislatura=56\"\n",
    "resposta = requests.get(url_deputados).json()\n",
    "\n",
    "deputados_dataframe = pd.DataFrame(resposta['dados'])\n",
    "    \n",
    "deputados_dataframe.to_csv(\"deputados.csv\", sep=';', index=False)"
   ]
  },
  {
   "cell_type": "markdown",
   "id": "ed6c0baa",
   "metadata": {},
   "source": [
    "### Download das informações de 2019"
   ]
  },
  {
   "cell_type": "code",
   "execution_count": null,
   "id": "d9e2d37c",
   "metadata": {},
   "outputs": [],
   "source": [
    "meses = ['dataInicio=2019-02-01&dataFim=2019-02-28', 'dataInicio=2019-03-01&dataFim=2019-03-31', 'dataInicio=2019-04-01&dataFim=2019-04-30', 'dataInicio=2019-05-01&dataFim=2019-05-31', 'dataInicio=2019-06-01&dataFim=2019-06-30', 'dataInicio=2019-07-01&dataFim=2019-07-31', 'dataInicio=2019-08-01&dataFim=2019-08-31', 'dataInicio=2019-09-01&dataFim=2019-09-30', 'dataInicio=2019-10-01&dataFim=2019-10-31', 'dataInicio=2019-11-01&dataFim=2019-11-30', 'dataInicio=2019-12-01&dataFim=2019-12-31']\n",
    "\n",
    "for mes in meses:\n",
    "    url_votacoes = \"https://dadosabertos.camara.leg.br/api/v2/votacoes?\" + mes + \"&pagina=1\"\n",
    "\n",
    "    resposta = requests.get(url_votacoes).json()\n",
    "\n",
    "    if mes == 'dataInicio=2019-02-01&dataFim=2019-02-28':\n",
    "        votacoes_dataframe = pd.DataFrame(resposta['dados'])\n",
    "\n",
    "    proxima_pagina = \"next\" in resposta['links'][1]['rel']\n",
    "\n",
    "    while(proxima_pagina):\n",
    "        url_votacoes = resposta['links'][1]['href']\n",
    "        print(url_votacoes)\n",
    "\n",
    "        resposta = requests.get(url_votacoes).json()\n",
    "\n",
    "        votacoes_dataframe_aux = pd.DataFrame(resposta['dados'])\n",
    "        votacoes_dataframe = votacoes_dataframe.append(votacoes_dataframe_aux)\n",
    "\n",
    "        proxima_pagina = \"next\" in resposta['links'][1]['rel']\n",
    "    \n",
    "    print(\"finalizei \" + mes)\n",
    "  \n",
    "votacoes_dataframe.to_csv('votacoes_2019.csv', sep=';', index=False)"
   ]
  },
  {
   "cell_type": "code",
   "execution_count": null,
   "id": "3eafbee9",
   "metadata": {},
   "outputs": [],
   "source": [
    "posicao_coluna = 9\n",
    "\n",
    "for id in votacoes_dataframe.id:\n",
    "    url_votacoes = \"https://dadosabertos.camara.leg.br/api/v2/votacoes/\" + id + \"/votos\"\n",
    "\n",
    "    resposta = requests.get(url_votacoes).json()\n",
    "    \n",
    "    votos_dataframe = pd.DataFrame(resposta['dados'])\n",
    "    \n",
    "    teve_votacao = len(resposta['dados'])\n",
    "    \n",
    "    if teve_votacao:\n",
    "        print(\"Iniciando \" + str(id) + \"...\")\n",
    "        \n",
    "        \n",
    "        deputados_dataframe.insert(posicao_coluna, column=id, value=\"\")\n",
    "        posicao_coluna += 1\n",
    "\n",
    "        for index, row in votos_dataframe.iterrows():    \n",
    "            if row[\"tipoVoto\"] == \"Sim\":\n",
    "                deputados_dataframe.loc[deputados_dataframe[\"id\"] == row[\"deputado_\"][\"id\"], [id]] = 1\n",
    "            elif row[\"tipoVoto\"] == \"Não\":\n",
    "                deputados_dataframe.loc[deputados_dataframe[\"id\"] == row[\"deputado_\"][\"id\"], [id]] = 0\n",
    "            else:\n",
    "                deputados_dataframe.loc[deputados_dataframe[\"id\"] == row[\"deputado_\"][\"id\"], [id]] = 0.5\n",
    "\n",
    "\n",
    "        deputados_dataframe.replace(\"\", 0.5, inplace=True)\n",
    "        deputados_dataframe.to_csv(\"deputados_2019.csv\", sep=';', index=False)\n",
    "\n",
    "print(\"--------------\")\n",
    "print(\"FINALIZEI 2019\")\n",
    "print(\"--------------\")"
   ]
  },
  {
   "cell_type": "markdown",
   "id": "48eb8028",
   "metadata": {},
   "source": [
    "### Download das informações de 2020"
   ]
  },
  {
   "cell_type": "code",
   "execution_count": null,
   "id": "d8a2831e",
   "metadata": {},
   "outputs": [],
   "source": [
    "meses = ['dataInicio=2020-02-01&dataFim=2020-02-28', 'dataInicio=2020-03-01&dataFim=2020-03-31', 'dataInicio=2020-04-01&dataFim=2020-04-30', 'dataInicio=2020-05-01&dataFim=2020-05-31', 'dataInicio=2020-06-01&dataFim=2020-06-30', 'dataInicio=2020-07-01&dataFim=2020-07-31', 'dataInicio=2020-08-01&dataFim=2020-08-31', 'dataInicio=2020-09-01&dataFim=2020-09-30', 'dataInicio=2020-10-01&dataFim=2020-10-31', 'dataInicio=2020-11-01&dataFim=2020-11-30', 'dataInicio=2020-12-01&dataFim=2020-12-31']\n",
    "\n",
    "for mes in meses:\n",
    "    url_votacoes = \"https://dadosabertos.camara.leg.br/api/v2/votacoes?\" + mes + \"&pagina=1\"\n",
    "\n",
    "    resposta = requests.get(url_votacoes).json()\n",
    "\n",
    "    if mes == 'dataInicio=2020-02-01&dataFim=2020-02-28':\n",
    "        votacoes_dataframe = pd.DataFrame(resposta['dados'])\n",
    "\n",
    "    proxima_pagina = \"next\" in resposta['links'][1]['rel']\n",
    "\n",
    "    while(proxima_pagina):\n",
    "        url_votacoes = resposta['links'][1]['href']\n",
    "        print(url_votacoes)\n",
    "\n",
    "        resposta = requests.get(url_votacoes).json()\n",
    "\n",
    "        votacoes_dataframe_aux = pd.DataFrame(resposta['dados'])\n",
    "        votacoes_dataframe = votacoes_dataframe.append(votacoes_dataframe_aux)\n",
    "\n",
    "        proxima_pagina = \"next\" in resposta['links'][1]['rel']\n",
    "    \n",
    "    print(\"finalizei \" + mes)\n",
    "  \n",
    "votacoes_dataframe.to_csv('votacoes_2020.csv', sep=';', index=False)"
   ]
  },
  {
   "cell_type": "code",
   "execution_count": null,
   "id": "bbdd604f",
   "metadata": {},
   "outputs": [],
   "source": [
    "for id in votacoes_dataframe.id:\n",
    "    url_votacoes = \"https://dadosabertos.camara.leg.br/api/v2/votacoes/\" + id + \"/votos\"\n",
    "\n",
    "    resposta = requests.get(url_votacoes).json()\n",
    "    \n",
    "    votos_dataframe = pd.DataFrame(resposta['dados'])\n",
    "    \n",
    "    teve_votacao = len(resposta['dados'])\n",
    "    \n",
    "    if teve_votacao:\n",
    "        print(\"Iniciando \" + str(id) + \"...\")\n",
    "        \n",
    "        \n",
    "        deputados_dataframe.insert(posicao_coluna, column=id, value=\"\")\n",
    "        posicao_coluna += 1\n",
    "\n",
    "        for index, row in votos_dataframe.iterrows():    \n",
    "            if row[\"tipoVoto\"] == \"Sim\":\n",
    "                deputados_dataframe.loc[deputados_dataframe[\"id\"] == row[\"deputado_\"][\"id\"], [id]] = 1\n",
    "            elif row[\"tipoVoto\"] == \"Não\":\n",
    "                deputados_dataframe.loc[deputados_dataframe[\"id\"] == row[\"deputado_\"][\"id\"], [id]] = 0\n",
    "            else:\n",
    "                deputados_dataframe.loc[deputados_dataframe[\"id\"] == row[\"deputado_\"][\"id\"], [id]] = 0.5\n",
    "\n",
    "\n",
    "        deputados_dataframe.replace(\"\", 0.5, inplace=True)\n",
    "        deputados_dataframe.to_csv(\"deputados_2020.csv\", sep=';', index=False)\n",
    "        \n",
    "print(\"--------------\")\n",
    "print(\"FINALIZEI 2020\")\n",
    "print(\"--------------\")"
   ]
  },
  {
   "cell_type": "markdown",
   "id": "b98eb234",
   "metadata": {},
   "source": [
    "### Download das informações de 2021"
   ]
  },
  {
   "cell_type": "code",
   "execution_count": null,
   "id": "f943ce1b",
   "metadata": {},
   "outputs": [],
   "source": [
    "meses = ['dataInicio=2021-02-01&dataFim=2021-02-28', 'dataInicio=2021-03-01&dataFim=2021-03-31', 'dataInicio=2021-04-01&dataFim=2021-04-30', 'dataInicio=2021-05-01&dataFim=2021-05-31', 'dataInicio=2021-06-01&dataFim=2021-06-30', 'dataInicio=2021-07-01&dataFim=2021-07-31', 'dataInicio=2021-08-01&dataFim=2021-08-31', 'dataInicio=2021-09-01&dataFim=2021-09-30', 'dataInicio=2021-10-01&dataFim=2021-10-31', 'dataInicio=2021-11-01&dataFim=2021-11-30', 'dataInicio=2021-12-01&dataFim=2021-12-31']\n",
    "\n",
    "for mes in meses:\n",
    "    url_votacoes = \"https://dadosabertos.camara.leg.br/api/v2/votacoes?\" + mes + \"&pagina=1\"\n",
    "\n",
    "    resposta = requests.get(url_votacoes).json()\n",
    "\n",
    "    if mes == 'dataInicio=2021-02-01&dataFim=2021-02-28':\n",
    "        votacoes_dataframe = pd.DataFrame(resposta['dados'])\n",
    "\n",
    "    proxima_pagina = \"next\" in resposta['links'][1]['rel']\n",
    "\n",
    "    while(proxima_pagina):\n",
    "        url_votacoes = resposta['links'][1]['href']\n",
    "        print(url_votacoes)\n",
    "\n",
    "        resposta = requests.get(url_votacoes).json()\n",
    "\n",
    "        votacoes_dataframe_aux = pd.DataFrame(resposta['dados'])\n",
    "        votacoes_dataframe = votacoes_dataframe.append(votacoes_dataframe_aux)\n",
    "\n",
    "        proxima_pagina = \"next\" in resposta['links'][1]['rel']\n",
    "    \n",
    "    print(\"finalizei \" + mes)\n",
    "  \n",
    "votacoes_dataframe.to_csv('votacoes_2021.csv', sep=';', index=False)"
   ]
  },
  {
   "cell_type": "code",
   "execution_count": null,
   "id": "b25c048b",
   "metadata": {},
   "outputs": [],
   "source": [
    "for id in votacoes_dataframe.id:\n",
    "    url_votacoes = \"https://dadosabertos.camara.leg.br/api/v2/votacoes/\" + id + \"/votos\"\n",
    "\n",
    "    resposta = requests.get(url_votacoes).json()\n",
    "    \n",
    "    votos_dataframe = pd.DataFrame(resposta['dados'])\n",
    "    \n",
    "    teve_votacao = len(resposta['dados'])\n",
    "    \n",
    "    if teve_votacao:\n",
    "        print(\"Iniciando \" + str(id) + \"...\")\n",
    "        \n",
    "        \n",
    "        deputados_dataframe.insert(posicao_coluna, column=id, value=\"\")\n",
    "        posicao_coluna += 1\n",
    "\n",
    "        for index, row in votos_dataframe.iterrows():    \n",
    "            if row[\"tipoVoto\"] == \"Sim\":\n",
    "                deputados_dataframe.loc[deputados_dataframe[\"id\"] == row[\"deputado_\"][\"id\"], [id]] = 1\n",
    "            elif row[\"tipoVoto\"] == \"Não\":\n",
    "                deputados_dataframe.loc[deputados_dataframe[\"id\"] == row[\"deputado_\"][\"id\"], [id]] = 0\n",
    "            else:\n",
    "                deputados_dataframe.loc[deputados_dataframe[\"id\"] == row[\"deputado_\"][\"id\"], [id]] = 0.5\n",
    "\n",
    "\n",
    "        deputados_dataframe.replace(\"\", 0.5, inplace=True)\n",
    "        deputados_dataframe.to_csv(\"deputados_2021.csv\", sep=';', index=False)\n",
    "        \n",
    "print(\"--------------\")\n",
    "print(\"FINALIZEI 2021\")\n",
    "print(\"--------------\")"
   ]
  }
 ],
 "metadata": {
  "kernelspec": {
   "display_name": "Python 3",
   "language": "python",
   "name": "python3"
  },
  "language_info": {
   "codemirror_mode": {
    "name": "ipython",
    "version": 3
   },
   "file_extension": ".py",
   "mimetype": "text/x-python",
   "name": "python",
   "nbconvert_exporter": "python",
   "pygments_lexer": "ipython3",
   "version": "3.8.8"
  }
 },
 "nbformat": 4,
 "nbformat_minor": 5
}
