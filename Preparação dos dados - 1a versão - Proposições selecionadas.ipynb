{
 "cells": [
  {
   "cell_type": "code",
   "execution_count": 1,
   "id": "c25407d5",
   "metadata": {},
   "outputs": [],
   "source": [
    "import requests\n",
    "import pandas as pd\n",
    "from glom import glom\n",
    "from ast import literal_eval\n",
    "import json"
   ]
  },
  {
   "cell_type": "code",
   "execution_count": 2,
   "id": "d9e2d37c",
   "metadata": {},
   "outputs": [],
   "source": [
    "url_deputados = \"https://dadosabertos.camara.leg.br/api/v2/deputados?idLegislatura=56\"\n",
    "resposta = requests.get(url_deputados).json()\n",
    "\n",
    "deputados_dataframe = pd.DataFrame(resposta['dados']).drop(columns=[\"uri\", \"uriPartido\", \"urlFoto\", \"email\"])\n",
    "\n",
    "projetos = [\"PL 2337/21\", \"PLP 19/19\", \"PL 591/2021\", \"PL 3729/04\", \"PL 3723/19\", \"PEC 06/2019\", \"PEC 125/2011\", \"MP 1045/21\", \"MP 1031/21\", \"PL 10372/18\", \"PEC 135/19\", \"PEC 241/2016\"]\n",
    "\n",
    "dicionario = {\n",
    "  \"2288389-78\": \"PL 2337/21\",\n",
    "  \"2265124-70\": \"PLP 19/19\",\n",
    "  \"2270894-103\": \"PL 591/2021\",\n",
    "  \"257161-337\": \"PL 3729/04\", \n",
    "  \"2209381-100\": \"PL 3723/19\", \n",
    "  \"2192459-786\": \"PEC 06/2019\", \n",
    "  \"531331-321\": \"PEC 125/2011\", \n",
    "  \"2279513-64\": \"MP 1045/21\",\n",
    "  \"2270789-157\": \"MP 1031/21\", \n",
    "  \"2178170-53\": \"PL 10372/18\", \n",
    "  \"2220292-229\": \"PEC 135/19\", \n",
    "  \"2088351-324\": \"PEC 241/2016\"\n",
    "}\n",
    "\n",
    "loc = 5\n",
    "\n",
    "for projeto in projetos:\n",
    "    deputados_dataframe.insert(loc, column=projeto, value=\"\")\n",
    "    loc += 1\n",
    "    \n",
    "deputados_dataframe.to_csv(\"deputados.csv\", index=False)"
   ]
  },
  {
   "cell_type": "code",
   "execution_count": 23,
   "id": "d8a2831e",
   "metadata": {},
   "outputs": [
    {
     "name": "stdout",
     "output_type": "stream",
     "text": [
      "Iniciando 2288389-78...\n",
      "Iniciando 2265124-70...\n",
      "Iniciando 2270894-103...\n",
      "Iniciando 257161-337...\n",
      "Iniciando 2209381-100...\n",
      "Iniciando 2192459-786...\n",
      "Iniciando 531331-321...\n",
      "Iniciando 2279513-64...\n",
      "Iniciando 2270789-157...\n",
      "Iniciando 2178170-53...\n",
      "Iniciando 2220292-229...\n",
      "Iniciando 2088351-324...\n"
     ]
    }
   ],
   "source": [
    "ids_votacoes = [\"2288389-78\", \"2265124-70\", \"2270894-103\", \"257161-337\", \"2209381-100\", \"2192459-786\", \"531331-321\", \"2279513-64\", \"2270789-157\", \"2178170-53\", \"2220292-229\", \"2088351-324\"]\n",
    "\n",
    "for id in ids_votacoes:\n",
    "    url_votacoes = \"https://dadosabertos.camara.leg.br/api/v2/votacoes/\" + id + \"/votos\"\n",
    "\n",
    "    resposta = requests.get(url_votacoes).json()\n",
    "    \n",
    "    votacoes_dataframe = pd.DataFrame(resposta['dados'])\n",
    "    \n",
    "    print(\"Iniciando \" + str(id) + \"...\")\n",
    "    \n",
    "    for index, row in votacoes_dataframe.iterrows():    \n",
    "        if row[\"tipoVoto\"] == \"Sim\":\n",
    "            deputados_dataframe.loc[deputados_dataframe[\"id\"] == row[\"deputado_\"][\"id\"], [dicionario[id]]] = 1\n",
    "        elif row[\"tipoVoto\"] == \"Não\":\n",
    "            deputados_dataframe.loc[deputados_dataframe[\"id\"] == row[\"deputado_\"][\"id\"], [dicionario[id]]] = 0\n",
    "        else:\n",
    "            deputados_dataframe.loc[deputados_dataframe[\"id\"] == row[\"deputado_\"][\"id\"], [dicionario[id]]] = 0.5\n",
    "        \n",
    "deputados_dataframe.replace(\"\", 0.5, inplace=True)\n",
    "deputados_dataframe.to_csv(\"deputados.csv\", index=False)"
   ]
  },
  {
   "cell_type": "code",
   "execution_count": null,
   "id": "bbdd604f",
   "metadata": {},
   "outputs": [],
   "source": []
  },
  {
   "cell_type": "code",
   "execution_count": null,
   "id": "7abf49f2",
   "metadata": {},
   "outputs": [],
   "source": []
  }
 ],
 "metadata": {
  "kernelspec": {
   "display_name": "Python 3",
   "language": "python",
   "name": "python3"
  },
  "language_info": {
   "codemirror_mode": {
    "name": "ipython",
    "version": 3
   },
   "file_extension": ".py",
   "mimetype": "text/x-python",
   "name": "python",
   "nbconvert_exporter": "python",
   "pygments_lexer": "ipython3",
   "version": "3.8.8"
  }
 },
 "nbformat": 4,
 "nbformat_minor": 5
}
